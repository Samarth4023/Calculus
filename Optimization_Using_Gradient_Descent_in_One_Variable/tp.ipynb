{
 "cells": [
  {
   "cell_type": "code",
   "execution_count": 4,
   "id": "a12d2109-8d33-48ac-8058-b091c9d96ace",
   "metadata": {},
   "outputs": [],
   "source": [
    "import numpy as np\n",
    "import matplotlib.pyplot as plt\n",
    "# Some functions defined specifically for this notebook.\n",
    "from w2_tools import plot_f, gradient_descent_one_variable, f_example_2, dfdx_example_2\n",
    "# Magic command to make matplotlib plots interactive.\n",
    "%matplotlib widget"
   ]
  },
  {
   "cell_type": "code",
   "execution_count": null,
   "id": "869249c0-b35c-4987-a568-591db04befb4",
   "metadata": {},
   "outputs": [],
   "source": []
  }
 ],
 "metadata": {
  "kernelspec": {
   "display_name": "example",
   "language": "python",
   "name": "example"
  },
  "language_info": {
   "codemirror_mode": {
    "name": "ipython",
    "version": 3
   },
   "file_extension": ".py",
   "mimetype": "text/x-python",
   "name": "python",
   "nbconvert_exporter": "python",
   "pygments_lexer": "ipython3",
   "version": "3.12.2"
  }
 },
 "nbformat": 4,
 "nbformat_minor": 5
}
